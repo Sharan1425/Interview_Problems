{
 "cells": [
  {
   "cell_type": "code",
   "execution_count": 2,
   "source": [
    "# finding charaters by unicode:\r\n",
    "\r\n",
    "x=\"a4k3b2\"\r\n",
    "output=\"\"\r\n",
    "for i in x:\r\n",
    "    if i.isalpha():\r\n",
    "        output=output+i\r\n",
    "        ch=i\r\n",
    "    else:\r\n",
    "        x=int(i)\r\n",
    "        y=chr(ord(ch)+x)\r\n",
    "        output=output+y\r\n",
    "print(output)"
   ],
   "outputs": [
    {
     "output_type": "stream",
     "name": "stdout",
     "text": [
      "aeknbd\n"
     ]
    }
   ],
   "metadata": {}
  },
  {
   "cell_type": "code",
   "execution_count": 5,
   "source": [
    "# Removing duplicates:\r\n",
    "\r\n",
    "x=\"a4k3b2\"\r\n",
    "output=\"\"\r\n",
    "for i in x:\r\n",
    "    if i.isalpha():\r\n",
    "        output=output+i\r\n",
    "        ch=i\r\n",
    "    else:\r\n",
    "        x=int(i)\r\n",
    "        y=chr(ord(ch)+x)\r\n",
    "        output=output+y\r\n",
    "print(output)"
   ],
   "outputs": [
    {
     "output_type": "stream",
     "name": "stdout",
     "text": [
      "aeknbd\n"
     ]
    }
   ],
   "metadata": {}
  },
  {
   "cell_type": "code",
   "execution_count": 1,
   "source": [
    "# WAP to find no of occurrence in string by using count() funtion:\r\n",
    "\r\n",
    "x=\"sdasjhgfetgegvgycdgcvyevqevscdcgskv\"\r\n",
    "output=[]\r\n",
    "for i in x:\r\n",
    "    if i not in output:\r\n",
    "        output.append(i)\r\n",
    "for j in output:\r\n",
    "    pass\r\n",
    "print(\"{}occurs{}times\".format(j,x.count(j)))"
   ],
   "outputs": [
    {
     "output_type": "stream",
     "name": "stdout",
     "text": [
      "koccurs1times\n"
     ]
    }
   ],
   "metadata": {}
  },
  {
   "cell_type": "code",
   "execution_count": 9,
   "source": [
    "# WAP to find no of occurrence in string WITHOUT using dictionary funtion:\r\n",
    "\r\n",
    "x = \"aabcaaccbbd\"\r\n",
    "dic = {}\r\n",
    "op = \"\"\r\n",
    "for i in x:\r\n",
    "    dic[i] = dic.get(i, 0) + 1\r\n",
    "print(dic)\r\n",
    "for k,v in dic.items():\r\n",
    "    op = op+str(v)+k\r\n",
    "print(op)"
   ],
   "outputs": [
    {
     "output_type": "stream",
     "name": "stdout",
     "text": [
      "{'a': 4, 'b': 3, 'c': 3, 'd': 1}\n",
      "4a3b3c1d\n"
     ]
    }
   ],
   "metadata": {}
  },
  {
   "cell_type": "code",
   "execution_count": 8,
   "source": [
    "# filter vowels and consonets from string:\r\n",
    "\r\n",
    "x = \"oisddgsvhgvabdeoourwnbqluae\"\r\n",
    "o = \"\"\r\n",
    "c = \"\"\r\n",
    "for i in x:\r\n",
    "    if i in (\"AEIOUaeiou\"):\r\n",
    "        o=str(o)+i\r\n",
    "    else:\r\n",
    "        c=str(c)+i\r\n",
    "if o == \"\":\r\n",
    "    print(\"There are no vowels\")\r\n",
    "else:\r\n",
    "    print(\"The vowels are: \",o)\r\n",
    "if c == \"\":\r\n",
    "    print(\"There are no consonents\")\r\n",
    "else:\r\n",
    "    print(\"The consonates are: \",c)"
   ],
   "outputs": [
    {
     "output_type": "stream",
     "name": "stdout",
     "text": [
      "The vowels are:  oiaeoouuae\n",
      "The consonates are:  sddgsvhgvbdrwnbql\n"
     ]
    }
   ],
   "metadata": {}
  },
  {
   "cell_type": "code",
   "execution_count": 10,
   "source": [
    "# No of vowels are consonents occurs in a string by using dictionary :\r\n",
    "\r\n",
    "x = \"oisddgsvhgvabdeoourwnbqluae\"\r\n",
    "d_vowels = {}\r\n",
    "d_conso = {}\r\n",
    "for i in x:\r\n",
    "    if i in (\"AEIOUaeiou\"):\r\n",
    "        d_vowels[i] = d_vowels.get(i, 0) + 1\r\n",
    "    else:\r\n",
    "        d_conso[i] = d_conso.get(i,0)+1\r\n",
    "print(\"The vowels are: \")\r\n",
    "for k,v in d_vowels.items():\r\n",
    "    print(\"{} occurs {} times\".format(k,v))\r\n",
    "print(\"The consonents are: \")\r\n",
    "for k,v in d_conso.items():\r\n",
    "    print(\"{} occurs {} times\".format(k,v))"
   ],
   "outputs": [
    {
     "output_type": "stream",
     "name": "stdout",
     "text": [
      "The vowels are: \n",
      "o occurs 3 times\n",
      "i occurs 1 times\n",
      "a occurs 2 times\n",
      "e occurs 2 times\n",
      "u occurs 2 times\n",
      "The consonents are: \n",
      "s occurs 2 times\n",
      "d occurs 3 times\n",
      "g occurs 2 times\n",
      "v occurs 2 times\n",
      "h occurs 1 times\n",
      "b occurs 2 times\n",
      "r occurs 1 times\n",
      "w occurs 1 times\n",
      "n occurs 1 times\n",
      "q occurs 1 times\n",
      "l occurs 1 times\n"
     ]
    }
   ],
   "metadata": {}
  },
  {
   "cell_type": "code",
   "execution_count": null,
   "source": [
    "# WAP to check the given string are Anagaram\r\n",
    "# ex: lazy = zaly, listen = silent, triangle = integral\r\n",
    "\r\n",
    "s1 = \"triangle\"\r\n",
    "s2 = \"integral\"\r\n",
    "if sorted(s1) == sorted(s2):\r\n",
    "    print(s1,\"and\",s2,\"are Anagarams\")\r\n",
    "else:\r\n",
    "    print(s1, \"and\", s2, \"are not Anagarams\")\r\n"
   ],
   "outputs": [],
   "metadata": {}
  },
  {
   "cell_type": "code",
   "execution_count": null,
   "source": [
    "# WAP to check the given string is palindrome or not.\r\n",
    " \r\n",
    "s = \"madam\"\r\n",
    "if s == s[::-1]:\r\n",
    "    print(s,\" is a palindrome\")\r\n",
    "else:\r\n",
    "    print(s,\" is not a palindrome\")"
   ],
   "outputs": [],
   "metadata": {}
  },
  {
   "cell_type": "code",
   "execution_count": 21,
   "source": [
    "# Armstrong number\r\n",
    "# the number of n digits is equal to the sum of nth power of its digits ex: 153 = 1**3+5**3+3**3 (153)\r\n",
    "n = 153\r\n",
    "def arm_strong(n):\r\n",
    "    sum = 0\r\n",
    "    x = str(n)\r\n",
    "    while n > 0:\r\n",
    "        reminder = n%10\r\n",
    "        sum = sum + (reminder**(len(x)))\r\n",
    "        n = n//10\r\n",
    "    return sum\r\n",
    "if n == arm_strong(n):\r\n",
    "    print(n,\"is an armstrong number\")\r\n",
    "else:\r\n",
    "    print(n,\"is not an armstrong number\")"
   ],
   "outputs": [
    {
     "output_type": "stream",
     "name": "stdout",
     "text": [
      "153 is an armstrong number\n"
     ]
    }
   ],
   "metadata": {}
  },
  {
   "cell_type": "code",
   "execution_count": 1,
   "source": [
    "# prime number\r\n",
    "n = 5\r\n",
    "for i in range(2,n):\r\n",
    "    if n%i ==0:\r\n",
    "        print(n,\"is not a prime number\")\r\n",
    "        break\r\n",
    "else:\r\n",
    "    print(n,\"is a prime number\")"
   ],
   "outputs": [
    {
     "output_type": "stream",
     "name": "stdout",
     "text": [
      "5 is a prime number\n"
     ]
    }
   ],
   "metadata": {}
  },
  {
   "cell_type": "code",
   "execution_count": 9,
   "source": [
    "# Strong number\r\n",
    "# the factoiral of each number and it's sum equal to original number, ex: 145 = 145\r\n",
    "def factorial (n):\r\n",
    "    if n==0:\r\n",
    "        return 1\r\n",
    "    else:\r\n",
    "        n = n*factorial(n-1)\r\n",
    "        return n\r\n",
    "n = int(input(\"Please enter the number: \"))\r\n",
    "strno = n\r\n",
    "sum = 0\r\n",
    "while n > 0:\r\n",
    "    remainder = n%10\r\n",
    "    sum = sum+factorial(remainder)\r\n",
    "    n = n//10\r\n",
    "if strno == sum:\r\n",
    "    print(\"it is a strong number\")\r\n",
    "else:\r\n",
    "    print(\"its not a strong number\")"
   ],
   "outputs": [
    {
     "output_type": "stream",
     "name": "stdout",
     "text": [
      "Please enter the number: 5\n",
      "its not a strong number\n"
     ]
    }
   ],
   "metadata": {}
  },
  {
   "cell_type": "code",
   "execution_count": 1,
   "source": [
    "# Displaying the Duplicate elements from the list--> op: [1,3]\r\n",
    "def remove_dup(number):\r\n",
    "    unique = []\r\n",
    "    count = 0\r\n",
    "    for i in range(len(number)):\r\n",
    "        for j in range(len(number)):\r\n",
    "            if (number[i]==number[j]):\r\n",
    "                count = count+1\r\n",
    "        if (count > 1):\r\n",
    "            if (number[i] not in unique):\r\n",
    "                unique.append(number[i])\r\n",
    "        count = 0\r\n",
    "    return unique\r\n",
    "\r\n",
    "print(remove_dup([1,2,3,4,5,6,1,3]))"
   ],
   "outputs": [
    {
     "output_type": "stream",
     "name": "stdout",
     "text": [
      "[1, 3]\n"
     ]
    }
   ],
   "metadata": {}
  },
  {
   "cell_type": "code",
   "execution_count": 1,
   "source": [
    "# printing the sequence of list in accensending order without duplicates\r\n",
    "def dup(number):\r\n",
    "    u = []\r\n",
    "    for i in number:\r\n",
    "        if i not in u:\r\n",
    "            u.append(i)\r\n",
    "    list = sorted(u)\r\n",
    "    return list\r\n",
    "print(dup([7,6,1,2,3,4,5,6,7,8,2,3,4,4,4,2,1,7,3,9,8]))"
   ],
   "outputs": [
    {
     "output_type": "stream",
     "name": "stdout",
     "text": [
      "[1, 2, 3, 4, 5, 6, 7, 8, 9]\n"
     ]
    }
   ],
   "metadata": {}
  },
  {
   "cell_type": "code",
   "execution_count": 6,
   "source": [
    " # Python3 program for rearrange an\r\n",
    "# array such that arr[i] = i.   \r\n",
    "A = [-1, -1, 6, 1, 9,3, 2, -1, 4,-1]  # Output : [-1, 1, 2, 3, 4, -1, 6, -1, -1, 9]\r\n",
    "s = set()\r\n",
    "\r\n",
    "# Storing all the values in the Set\r\n",
    "for i in range(len(A)):\r\n",
    "    s.add(A[i])\r\n",
    "    #print(A[i])\r\n",
    "\r\n",
    "for i in range(len(A)):\r\n",
    "\r\n",
    "    # check for item if present in set\r\n",
    "    if i in s:\r\n",
    "        A[i] = i\r\n",
    "    else:\r\n",
    "        \r\n",
    "        A[i] = -1\r\n",
    "#print(A)\r\n",
    "print(s)"
   ],
   "outputs": [
    {
     "output_type": "stream",
     "name": "stdout",
     "text": [
      "-1\n",
      "-1\n",
      "6\n",
      "1\n",
      "9\n",
      "3\n",
      "2\n",
      "-1\n",
      "4\n",
      "-1\n",
      "[-1, 1, 2, 3, 4, -1, 6, -1, -1, 9]\n",
      "{1, 2, 3, 4, 6, 9, -1}\n"
     ]
    }
   ],
   "metadata": {}
  },
  {
   "cell_type": "code",
   "execution_count": 9,
   "source": [
    "#that, given an array A of N integers, returns the smallest positive integer (greater than 0) that does not occur in A.\r\n",
    "\r\n",
    "#For example, given A = [1, 3, 6, 4, 1, 2], the function should return 5.\r\n",
    "def minpositive(a):\r\n",
    "    A = set(a)\r\n",
    "    print(A)\r\n",
    "    ans = 1\r\n",
    "    while ans in A:\r\n",
    "       ans += 1\r\n",
    "    return ans\r\n",
    "print(minpositive(([1, 3, 6, 4, 1, 2])))"
   ],
   "outputs": [
    {
     "output_type": "stream",
     "name": "stdout",
     "text": [
      "{1, 2, 3, 4, 6}\n",
      "5\n"
     ]
    }
   ],
   "metadata": {}
  },
  {
   "cell_type": "code",
   "execution_count": 10,
   "source": [
    "#Days of the week are represented as three-letter strings (\"Mon\", \"Tue\", \"Wed\", \"Thu\", \"Fri\", \"Sat\", \"Sun\"). \r\n",
    "# Write a javaScript function solution that, given a string S representing the day of the week and an integer K (between 0 and 500),\r\n",
    "# returns the day of the week that is K days later\r\n",
    "weekday = {\r\n",
    "    \"Mon\": 0,\r\n",
    "    \"Tue\": 1,\r\n",
    "    \"Wed\": 2,\r\n",
    "    \"Thu\": 3,\r\n",
    "    \"Fri\": 4,\r\n",
    "    \"Sat\": 5,\r\n",
    "    \"Sun\": 6\r\n",
    "}\r\n",
    "\r\n",
    "def wd(s, k):\r\n",
    "    # To filter the value with the key\r\n",
    "    s = weekday[s]\r\n",
    "    # to filter the given no with 7\r\n",
    "    k %= 7\r\n",
    "    # Add k number with filtered value so that you will get a no which is position of the required key\r\n",
    "    result = (s + k) % 7\r\n",
    "    # to filter the required key with the result\r\n",
    "    res = list(weekday.keys())[(list(weekday.values()).index(result))]\r\n",
    "    return res\r\n",
    "print(wd('Sat',23))"
   ],
   "outputs": [
    {
     "output_type": "stream",
     "name": "stdout",
     "text": [
      "Mon\n"
     ]
    }
   ],
   "metadata": {}
  },
  {
   "cell_type": "code",
   "execution_count": 2,
   "source": [
    "# Fibonoci series\r\n",
    "a = 0\r\n",
    "b = 1\r\n",
    "print(a)\r\n",
    "print(b)\r\n",
    "for i in range(15):\r\n",
    "    c = a+b\r\n",
    "    a = b\r\n",
    "    b = c\r\n",
    "    \r\n",
    "    print(c)"
   ],
   "outputs": [
    {
     "output_type": "stream",
     "name": "stdout",
     "text": [
      "0\n",
      "1\n",
      "1\n",
      "2\n",
      "3\n",
      "5\n",
      "8\n",
      "13\n",
      "21\n",
      "34\n",
      "55\n",
      "89\n",
      "144\n",
      "233\n",
      "377\n",
      "610\n",
      "987\n"
     ]
    }
   ],
   "metadata": {}
  },
  {
   "cell_type": "code",
   "execution_count": 6,
   "source": [
    "x = 1\r\n",
    "y = -1\r\n",
    "x,y = (y,x)[::-1]\r\n",
    "print(x,y)"
   ],
   "outputs": [
    {
     "output_type": "stream",
     "name": "stdout",
     "text": [
      "1 -1\n"
     ]
    }
   ],
   "metadata": {}
  },
  {
   "cell_type": "code",
   "execution_count": 11,
   "source": [
    "x= 10 \r\n",
    "def f(a,b=x):\r\n",
    "    print(a,b)\r\n",
    "x = 15\r\n",
    "f(3)"
   ],
   "outputs": [
    {
     "output_type": "stream",
     "name": "stdout",
     "text": [
      "3 10\n"
     ]
    }
   ],
   "metadata": {}
  },
  {
   "cell_type": "code",
   "execution_count": 12,
   "source": [
    "tuple_a = ('test',)\r\n",
    "n = 2\r\n",
    "for i in range(int(n)):\r\n",
    "    tuple_a = (tuple_a,)\r\n",
    "    print( tuple_a )"
   ],
   "outputs": [
    {
     "output_type": "stream",
     "name": "stdout",
     "text": [
      "(('test',),)\n",
      "((('test',),),)\n"
     ]
    }
   ],
   "metadata": {}
  },
  {
   "cell_type": "code",
   "execution_count": 4,
   "source": [
    "# Combine two lists using Zip method\r\n",
    "1)\r\n",
    "fname = ['sharan','sai','vishnu']\r\n",
    "lname = ['mudiliyar','singh','uppara']\r\n",
    "\r\n",
    "fullname = []\r\n",
    "for fname,lname in zip(fname,lname):\r\n",
    "    fullname.append(fname+' '+lname)\r\n",
    "print(fullname)\r\n",
    "\r\n",
    "# using list comprehension\r\n",
    "2) fullname = [fname+' 'lname for fname,lname in zip(fname,lname)] "
   ],
   "outputs": [
    {
     "output_type": "stream",
     "name": "stdout",
     "text": [
      "['sharan mudiliyar', 'sai singh', 'vishnu uppara']\n"
     ]
    }
   ],
   "metadata": {}
  },
  {
   "cell_type": "code",
   "execution_count": 6,
   "source": [
    "#Combine two lists using Zip method where two list have different length\r\n",
    "\r\n",
    "import itertools\r\n",
    "\r\n",
    "fname = ['sharan','sai','vishnu','manju']\r\n",
    "lname = ['mudiliyar','singh','uppara']\r\n",
    "\r\n",
    "fullname = [str(fname)+' '+str(lname) for fname,lname in itertools.zip_longest(fname,lname)] \r\n",
    "\r\n",
    "print(fullname)"
   ],
   "outputs": [
    {
     "output_type": "stream",
     "name": "stdout",
     "text": [
      "['sharan mudiliyar', 'sai singh', 'vishnu uppara', 'manju None']\n"
     ]
    }
   ],
   "metadata": {}
  },
  {
   "cell_type": "code",
   "execution_count": 11,
   "source": [
    "# coverting two lists to dictionary\r\n",
    "\r\n",
    "fname = ['sharan','sai','vishnu','manju']\r\n",
    "lname = ['mudiliyar','singh','uppara','gouda']\r\n",
    "\r\n",
    "fullname = dict(zip(fname,lname))\r\n",
    "print(fullname)"
   ],
   "outputs": [
    {
     "output_type": "stream",
     "name": "stdout",
     "text": [
      "{'sharan': 'mudiliyar', 'sai': 'singh', 'vishnu': 'uppara', 'manju': 'gouda'}\n"
     ]
    }
   ],
   "metadata": {}
  },
  {
   "cell_type": "code",
   "execution_count": 11,
   "source": [
    "# pring numbers 1-10 without using loops\r\n",
    "\r\n",
    "def num (n):\r\n",
    "    if n<=10:\r\n",
    "        num(n+1)\r\n",
    "        print(n,end ='')\r\n",
    "num(1)"
   ],
   "outputs": [
    {
     "output_type": "stream",
     "name": "stdout",
     "text": [
      "10987654321"
     ]
    }
   ],
   "metadata": {}
  },
  {
   "cell_type": "code",
   "execution_count": 20,
   "source": [
    "# python program to get a second maximum value in the dictionary\r\n",
    "\r\n",
    "new_dict = {\"google\":12, \"amazon\":9,\"filpkart\":4,\"myntra\":11}\r\n",
    "max = max(new_dict.values())\r\n",
    "max2 = 0\r\n",
    "for i in new_dict.values():\r\n",
    "    if (i>max2 and i<max):\r\n",
    "        max2 = i\r\n",
    "print(max2)\r\n"
   ],
   "outputs": [
    {
     "output_type": "error",
     "ename": "TypeError",
     "evalue": "'int' object is not callable",
     "traceback": [
      "\u001b[1;31m---------------------------------------------------------------------------\u001b[0m",
      "\u001b[1;31mTypeError\u001b[0m                                 Traceback (most recent call last)",
      "\u001b[1;32m<ipython-input-20-8af8b63c2180>\u001b[0m in \u001b[0;36m<module>\u001b[1;34m\u001b[0m\n\u001b[0;32m      2\u001b[0m \u001b[1;33m\u001b[0m\u001b[0m\n\u001b[0;32m      3\u001b[0m \u001b[0mnew_dict\u001b[0m \u001b[1;33m=\u001b[0m \u001b[1;33m{\u001b[0m\u001b[1;34m\"google\"\u001b[0m\u001b[1;33m:\u001b[0m\u001b[1;36m12\u001b[0m\u001b[1;33m,\u001b[0m \u001b[1;34m\"amazon\"\u001b[0m\u001b[1;33m:\u001b[0m\u001b[1;36m9\u001b[0m\u001b[1;33m,\u001b[0m\u001b[1;34m\"filpkart\"\u001b[0m\u001b[1;33m:\u001b[0m\u001b[1;36m4\u001b[0m\u001b[1;33m,\u001b[0m\u001b[1;34m\"myntra\"\u001b[0m\u001b[1;33m:\u001b[0m\u001b[1;36m11\u001b[0m\u001b[1;33m}\u001b[0m\u001b[1;33m\u001b[0m\u001b[1;33m\u001b[0m\u001b[0m\n\u001b[1;32m----> 4\u001b[1;33m \u001b[0mmax\u001b[0m \u001b[1;33m=\u001b[0m \u001b[0mmax\u001b[0m\u001b[1;33m(\u001b[0m\u001b[0mnew_dict\u001b[0m\u001b[1;33m.\u001b[0m\u001b[0mvalues\u001b[0m\u001b[1;33m(\u001b[0m\u001b[1;33m)\u001b[0m\u001b[1;33m)\u001b[0m\u001b[1;33m\u001b[0m\u001b[1;33m\u001b[0m\u001b[0m\n\u001b[0m\u001b[0;32m      5\u001b[0m \u001b[0mmax2\u001b[0m \u001b[1;33m=\u001b[0m \u001b[1;36m0\u001b[0m\u001b[1;33m\u001b[0m\u001b[1;33m\u001b[0m\u001b[0m\n\u001b[0;32m      6\u001b[0m \u001b[1;32mfor\u001b[0m \u001b[0mi\u001b[0m \u001b[1;32min\u001b[0m \u001b[0mnew_dict\u001b[0m\u001b[1;33m.\u001b[0m\u001b[0mvalues\u001b[0m\u001b[1;33m(\u001b[0m\u001b[1;33m)\u001b[0m\u001b[1;33m:\u001b[0m\u001b[1;33m\u001b[0m\u001b[1;33m\u001b[0m\u001b[0m\n",
      "\u001b[1;31mTypeError\u001b[0m: 'int' object is not callable"
     ]
    }
   ],
   "metadata": {}
  },
  {
   "cell_type": "code",
   "execution_count": 24,
   "source": [
    "# python program to get a second maximum value in the dictionary using sorted method\r\n",
    "new_dict = {\"google\":12, \"amazon\":9,\"filpkart\":4,\"myntra\":11}\r\n",
    "my_dict = sorted(new_dict.values())[-2]"
   ],
   "outputs": [],
   "metadata": {}
  },
  {
   "cell_type": "code",
   "execution_count": 26,
   "source": [
    "# program to find frequencies in list using dict and without using any methods\r\n",
    "l = [1,2,3,4,5,1,2,4,2,3,1]   #o/p : {1: 3, 2: 3, 3: 2, 4: 2, 5: 1}\r\n",
    "d = {}\r\n",
    "for i in l:\r\n",
    "    if i in d:\r\n",
    "        d[i]  = d[i]+1\r\n",
    "    else:\r\n",
    "        d[i] = 1\r\n",
    "print(d)"
   ],
   "outputs": [
    {
     "output_type": "stream",
     "name": "stdout",
     "text": [
      "{1: 3, 2: 3, 3: 2, 4: 2, 5: 1}\n"
     ]
    }
   ],
   "metadata": {}
  },
  {
   "cell_type": "code",
   "execution_count": 11,
   "source": [
    "\r\n",
    "arr = [[1,2,3],[-1,-8,-7,-10,5]]\r\n",
    "\r\n",
    "def sqr(arr):\r\n",
    "    plain_arr = sum(arr,[])\r\n",
    "    #plain = sum(plain_arr,[])\r\n",
    "    #print(plain)\r\n",
    "    sqr_list = []\r\n",
    "    for i in plain_arr:\r\n",
    "        if i>= 0:\r\n",
    "            s = i**2\r\n",
    "            sqr_list.append(s)\r\n",
    "    return sqr_list\r\n",
    "        \r\n",
    "print(sqr(arr))"
   ],
   "outputs": [
    {
     "output_type": "stream",
     "name": "stdout",
     "text": [
      "[1, 4, 9, 25]\n"
     ]
    }
   ],
   "metadata": {}
  },
  {
   "cell_type": "code",
   "execution_count": 12,
   "source": [
    "# nested lists into single list\r\n",
    "\r\n",
    "l = [1, 2, [3, 4, [5, 6]], 7, 8, [9, [10]]] \r\n",
    "\r\n",
    "output = []\r\n",
    "\r\n",
    "def reemovNestings(l): \r\n",
    "    for i in l: \r\n",
    "        if type(i) == list: \r\n",
    "            reemovNestings(i) \r\n",
    "        else: \r\n",
    "            output.append(i) \r\n",
    "reemovNestings(l)\r\n",
    "print(output)"
   ],
   "outputs": [
    {
     "output_type": "stream",
     "name": "stdout",
     "text": [
      "[1, 2, 3, 4, 5, 6, 7, 8, 9, 10]\n"
     ]
    }
   ],
   "metadata": {}
  },
  {
   "cell_type": "code",
   "execution_count": 12,
   "source": [
    "# adding two lists in an alternative way o/p [9, 2, 7, 4, 5, 6, 3, 8, 1]\r\n",
    "s = [9, 8, 7, 6, 5, 4, 3, 2, 1]\r\n",
    "l = [1, 2, 3, 4, 5, 6, 7, 8, 9]\r\n",
    "l1 = []\r\n",
    "l2 = []\r\n",
    "l3 = []\r\n",
    "for i in range(len(s)):\r\n",
    "    print(i)\r\n",
    "    if i%2==0:\r\n",
    "        l1.append(s[i])\r\n",
    "print(l1)\r\n",
    "for j in range(len(l)):\r\n",
    "    if j%2==1:\r\n",
    "        l2.append(l[j])\r\n",
    "print(l2)\r\n",
    "while True:\r\n",
    "    try:\r\n",
    "        l3.append(l1.pop(0))\r\n",
    "        print(l3)\r\n",
    "        l3.append(l2.pop(0))\r\n",
    "        print(l3)\r\n",
    "    except IndexError:\r\n",
    "        break\r\n",
    "print(l3)\r\n",
    "\r\n"
   ],
   "outputs": [
    {
     "output_type": "stream",
     "name": "stdout",
     "text": [
      "0\n",
      "1\n",
      "2\n",
      "3\n",
      "4\n",
      "5\n",
      "6\n",
      "7\n",
      "8\n",
      "[9, 7, 5, 3, 1]\n",
      "[2, 4, 6, 8]\n",
      "[9]\n",
      "[9, 2]\n",
      "[9, 2, 7]\n",
      "[9, 2, 7, 4]\n",
      "[9, 2, 7, 4, 5]\n",
      "[9, 2, 7, 4, 5, 6]\n",
      "[9, 2, 7, 4, 5, 6, 3]\n",
      "[9, 2, 7, 4, 5, 6, 3, 8]\n",
      "[9, 2, 7, 4, 5, 6, 3, 8, 1]\n",
      "[9, 2, 7, 4, 5, 6, 3, 8, 1]\n"
     ]
    }
   ],
   "metadata": {}
  },
  {
   "cell_type": "code",
   "execution_count": 2,
   "source": [
    "# reading packages and removing versions\r\n",
    "\r\n",
    "f = open(r'C:\\Users\\Murugappa\\new\\fooddocs\\requirements.txt','r')\r\n",
    "line = f.readlines()\r\n",
    "l = \"\"\r\n",
    "for i in line:\r\n",
    "    #print(i)\r\n",
    "    for j in i:\r\n",
    "        if j.isalpha():\r\n",
    "            l = (l+j)\r\n",
    "    l = l+\"\\n\"\r\n",
    "x = open(r'C:\\Users\\Murugappa\\new\\fooddocs\\req.txt','w')\r\n",
    "x.writelines(l)"
   ],
   "outputs": [],
   "metadata": {}
  },
  {
   "cell_type": "code",
   "execution_count": 7,
   "source": [
    "s = \"Sharan\"\r\n",
    "x = s.join('1')\r\n",
    "print(x)"
   ],
   "outputs": [
    {
     "output_type": "stream",
     "name": "stdout",
     "text": [
      "1\n"
     ]
    }
   ],
   "metadata": {}
  },
  {
   "cell_type": "code",
   "execution_count": 3,
   "source": [
    "s = [1, 2, 3, 4, 5, 6, 7, 8, 9, 10]\r\n",
    "s.pop(2)\r\n",
    "print(s)"
   ],
   "outputs": [
    {
     "output_type": "stream",
     "name": "stdout",
     "text": [
      "[1, 2, 4, 5, 6, 7, 8, 9, 10]\n"
     ]
    }
   ],
   "metadata": {}
  },
  {
   "cell_type": "code",
   "execution_count": 5,
   "source": [
    "# get nth highest number in an array\r\n",
    "s = [1, 2, 3, 4, 5, 6, 7, 8, 9, 10]\r\n",
    "mx = (max(s)-2)\r\n",
    "mn = 0\r\n",
    "for i in s:\r\n",
    "    if i > mn and i<mx :\r\n",
    "        mn = i\r\n",
    "print(mn)"
   ],
   "outputs": [
    {
     "output_type": "stream",
     "name": "stdout",
     "text": [
      "7\n"
     ]
    }
   ],
   "metadata": {}
  },
  {
   "cell_type": "code",
   "execution_count": 1,
   "source": [
    "# moving all zeros in end of the arr\r\n",
    "arr = [1,0,5,0,2,0]\r\n",
    "\r\n",
    "list = [nonzero for nonzero in arr if nonzero != 0] + [zero for zero in arr if zero ==0]\r\n",
    "print(list)"
   ],
   "outputs": [
    {
     "output_type": "stream",
     "name": "stdout",
     "text": [
      "[1, 5, 2, 0, 0, 0]\n"
     ]
    }
   ],
   "metadata": {}
  },
  {
   "cell_type": "code",
   "execution_count": 4,
   "source": [
    "print(list(range(1,11)))"
   ],
   "outputs": [
    {
     "output_type": "stream",
     "name": "stdout",
     "text": [
      "[1, 2, 3, 4, 5, 6, 7, 8, 9, 10]\n"
     ]
    }
   ],
   "metadata": {}
  },
  {
   "cell_type": "code",
   "execution_count": null,
   "source": [
    "s = 'alabaster==0.7.12','sharan'\r\n",
    "l = []\r\n",
    "n = ''\r\n",
    "for i in s:\r\n",
    "    if i.isalpha():\r\n",
    "        n = n+i\r\n",
    "l.append(n)\r\n",
    "print(','.join(l))"
   ],
   "outputs": [],
   "metadata": {}
  },
  {
   "cell_type": "code",
   "execution_count": null,
   "source": [
    "f = open(r'C:\\Users\\Murugappa\\new\\fooddocs\\requirements.txt','r')\r\n",
    "line = f.readlines()\r\n",
    "l = \"\"\r\n",
    "for i in line:\r\n",
    "    #print(i)\r\n",
    "    for j in i:\r\n",
    "        if j.isalpha():\r\n",
    "            l = (l+j)\r\n",
    "    l = l+\"\\n\"\r\n",
    "x = open(r'C:\\Users\\Murugappa\\new\\fooddocs\\req.txt','w')\r\n",
    "x.writelines(l)\r\n",
    "\r\n",
    "print(l)"
   ],
   "outputs": [],
   "metadata": {}
  },
  {
   "cell_type": "code",
   "execution_count": null,
   "source": [
    "s = list(range(1,10)[::-1])\r\n",
    "print(s)\r\n",
    "print(l)\r\n",
    "\r\n",
    "\r\n",
    "l1 = []\r\n",
    "l2 = []\r\n",
    "l3 = []\r\n",
    "for i in range(len(s)):\r\n",
    "    if i%2==0:\r\n",
    "        l1.append(s[i])\r\n",
    "for j in range(len(l)):\r\n",
    "    if j%2==1:\r\n",
    "        l2.append(l[j])\r\n",
    "while True:\r\n",
    "    try:\r\n",
    "        l3.append(l1.pop(0)) # pop removes the element in the list and give it as output\r\n",
    "        l3.append(l2.pop(0))\r\n",
    "    except IndexError:\r\n",
    "        break\r\n",
    "print(l3)"
   ],
   "outputs": [],
   "metadata": {}
  }
 ],
 "metadata": {
  "kernelspec": {
   "display_name": "Python 3",
   "language": "python",
   "name": "python3"
  },
  "language_info": {
   "codemirror_mode": {
    "name": "ipython",
    "version": 3
   },
   "file_extension": ".py",
   "mimetype": "text/x-python",
   "name": "python",
   "nbconvert_exporter": "python",
   "pygments_lexer": "ipython3",
   "version": "3.8.5"
  }
 },
 "nbformat": 4,
 "nbformat_minor": 4
}